{
 "metadata": {
  "language_info": {
   "codemirror_mode": {
    "name": "ipython",
    "version": 3
   },
   "file_extension": ".py",
   "mimetype": "text/x-python",
   "name": "python",
   "nbconvert_exporter": "python",
   "pygments_lexer": "ipython3",
   "version": 3
  },
  "orig_nbformat": 2
 },
 "nbformat": 4,
 "nbformat_minor": 2,
 "cells": [
  {
   "source": [
    "# L8-1 A user Centric Evaluation Framework of Recommender Systems\n",
    "## Abstract\n",
    "The article exposed by Li Chen and Pearl Pu focus on designing a framework for evaluating SysRecs (SR) from a user-perspective side, instead of numerical metrics. \n",
    "It begins by taking a sociological-phycological explanation of human decision making, definint it as an adaptative act using various points such as Four decision metagoals, Anchoring effect, Tradeoff avoidance (this one being of particular interest), Means objectives, etc.\n",
    "The following section talks about trust in SysRec from users, going trough its contextual definition, how to measure it (not quite for trust, but as an example there is Technology Acceptace Model), and why trust is importance particularly for e-commerce.\n",
    "\n",
    "## The framework\n",
    "The evaluation framework designed can be condensed on a series of questions to be answered in a 1 to 5 (strongly disagree to strongly agree) manner, that are linked to a trust model designed by the authors, or a percieved (or subjective) Accuracy-Effort tradeoff. It must be noted that the objective side of the mentioned tradeoff can be measured withouth the need of questions (using data such as clicks, switching, etc).\n",
    "\n",
    "## The comment\n",
    "Being this the first article read by me that takes a more user-based evaluation on SysRecs, my general opinion of it it's that, the designed framework makes sense. For starters, it doesn't completely avoid some important metrics since there's still the objective effort-accuracy tradeoff, but it now allows a way of including a model of the user trust on the system. \n",
    "\n",
    "And this is quite a \"breaking through the roof\" kind of thing. If one was to choose between 2 SysRec for say, a e-commerce webpage, and I could measure common metrics such as MAP, NDCG, AUC, etc etc, or things like user trust, I personally would take the second. On the other hand, for someone who's not from a science department, it's easier for said person to select a SR based on a \"metric that represents trust\" that goes from 1 to 5 compared to a value of 0.0356 with three capital letters to it's side."
   ],
   "cell_type": "markdown",
   "metadata": {}
  }
 ]
}