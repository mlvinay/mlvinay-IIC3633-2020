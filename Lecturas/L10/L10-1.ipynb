{
 "metadata": {
  "language_info": {
   "codemirror_mode": {
    "name": "ipython",
    "version": 3
   },
   "file_extension": ".py",
   "mimetype": "text/x-python",
   "name": "python",
   "nbconvert_exporter": "python",
   "pygments_lexer": "ipython3",
   "version": 3
  },
  "orig_nbformat": 2
 },
 "nbformat": 4,
 "nbformat_minor": 2,
 "cells": [
  {
   "source": [
    "# L10-1 Deep Learning based Recommender System: A survey and new perspectives (Part 1)\n",
    "## Abstract\n",
    "\n",
    "The article written by Zhang S. et al. presents itself as a survey of use/application of neural networks and deep learning technology in recommndation systems, working as a guideline of where to start/what model to search for according to the domain of work.\n",
    "\n",
    "The article begins by giving a quick introduction of various deep learning techniques, and answering a really important question, why use deep learning in RS?\n",
    "Afterwards, it introduces the main pros and cons of this techniques.\n",
    "\n",
    "Up to section 3.4, the authors present three mainstream models, such as Multilayer Perceptron (MLP), Autoencoders and Convolutional Neural Networks (CNN), and giving references of work in the RS area, usually marking a difference where the deep learning models attempt to work on a CF baseline, or a content-based / embedding baseline.\n",
    "\n",
    "## Comment\n",
    "This paper does not aim to push the boundaries of current techniques, but to make a survey of the current state of the art. As I mentioned before, this kind of paper, in a lot of cases can push the scientific community  further than a common \"new model\" or \"this application\" article can. The reason being it works as starting point for research, quickly answering the question of \"Who has worked in this area, and what did they do?\".\n",
    "\n",
    "Furthermore, it includes a overall complete look at the most important deep learning models (from the most basic MLP, to more complex such as GAN's and DRL), while also digging into specific models for RS."
   ],
   "cell_type": "markdown",
   "metadata": {}
  }
 ]
}