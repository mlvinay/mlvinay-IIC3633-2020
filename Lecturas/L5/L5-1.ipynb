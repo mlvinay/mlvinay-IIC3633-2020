{
 "metadata": {
  "language_info": {
   "codemirror_mode": {
    "name": "ipython",
    "version": 3
   },
   "file_extension": ".py",
   "mimetype": "text/x-python",
   "name": "python",
   "nbconvert_exporter": "python",
   "pygments_lexer": "ipython3",
   "version": 3
  },
  "orig_nbformat": 2
 },
 "nbformat": 4,
 "nbformat_minor": 2,
 "cells": [
  {
   "source": [
    "# Context-Aware Recommender Systems (CARS)\n",
    "\n",
    "## Abstract\n",
    "\n",
    "The artcile presented by Adomavicius G. and Tuzhilin A. presents an overview of the idea of 'context' applied into SysRecs. Starting by defining what is context in this area of computer science by giving some examples  (Being a common example time, e.g: Time of purchase). The idea is to change the common rating function $R$ of collaborative filtering $R: User \\times Item \\rightarrow Rating$ (from here on referred to as 2D recommender system or 2DRS into something of the shape $R: User \\times Item \\times Context \\rightarrow Rating$.\n",
    "\n",
    "## In relation to context\n",
    "The article presents various aspects of including context in a SysRec. Starting from obtaning contextual information, this can be similar to obtaining ratings as one can get them explicitly or implicitly, but there's another option of inferring the context (For example, inferring the number of households members by grouping the programs usually seen on a TV, and who's is/was using during a certain time).\n",
    "\n",
    "Furthermore, there are 3 paradigms presented:\n",
    "- Contextual pre-filtering: Using context to filter data that's afterwards fed into a 2DRS.\n",
    "- Contextual post-filtering: Using a 2DRS on the whole data, and using context to filter the recomendations.\n",
    "- Contextual modeling: Uses both ratings and context as part of the model itself. An example could be seen as a summatory of weight functions W(u,i,c). \n",
    "\n",
    "## Experiments in this article\n",
    "This article experiments on using a combintion of pre-filtering algorithms on a movie dataset, where the context data used is a mix of time-where-with whom it was seen. The basic idea of the combinatory pre-filtering algorithm developed is finding context sub-sets that offer, by themselves a high performance (for example, if using a 2DRS on a 'Saw movie at home' dataset offers on that dataset a good result, using that conxtext tag could prove to be worthy). After that, the final recomendation is combination of recomendations by various 2DRS (1 for each high-performance subset).\n",
    "\n",
    "The results in this dataset proved to be better (using a F-score metric).\n",
    "\n",
    "## Comments\n",
    "Adding context to SysRecs makes, even before looking at the results seems to be something 'logic' to do. If I am using GoogleMaps and I want a recomendation on a cafe shop, I am gonna get recommended the best rated cafe-shop on Japan? Of course not. This is easily fixed with a pre-filtering method. While the example before might seem silly, it gives a natural idea of what context on SysRecs could do. An area that seems to use this a lot is online Ads, as they only show ads that are 'accesible' to oneself. As a personal example, japanese ads starting popping when I started searching the same things, in japanese. This is while my location at said time was Chile.\n",
    "\n"
   ],
   "cell_type": "markdown",
   "metadata": {}
  }
 ]
}