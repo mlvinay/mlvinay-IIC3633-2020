{
 "metadata": {
  "language_info": {
   "codemirror_mode": {
    "name": "ipython",
    "version": 3
   },
   "file_extension": ".py",
   "mimetype": "text/x-python",
   "name": "python",
   "nbconvert_exporter": "python",
   "pygments_lexer": "ipython3",
   "version": 3
  },
  "orig_nbformat": 2
 },
 "nbformat": 4,
 "nbformat_minor": 2,
 "cells": [
  {
   "source": [
    "# L8-3 Insepctability and Control in Social recommenders\n",
    "## Abstract\n",
    "The article written by P. Bart et al. presents a case study with 267 users where they evaluate various aspects of a SysRec (such as understandability, satisfaction, etc), in different scenarios where the the inspectability and controlability are different.\n",
    "\n",
    "The article starts setting a background that explains that SR that explain their reccomandetions seem to be appreciated, the same case being with controlability (adding some way to fine-tune the reccomandetions on the user-side). \n",
    "\n",
    "Furthermore, the SysRec to be used is presented as a music reccomandetions system that uses collaborative filtering across facebook friends (which mean the closest neighbours are not anonymous people, on the contrary, people the users actually know of). \n",
    "\n",
    "The inspectability of this system is presented as a graph, that shows the user likes on various bands, various friends who also liked such bands, and the reccomendation list. \n",
    "The controlability is presented as being able to change a weight factor with sliders, to change either one's liked bands (For example prioritizing similarity of Metalica over Gun's n Roses), or being able to change the similarity of a friend (Prefer things Jacob liked over what Gabriel liked).\n",
    "\n",
    "The case study uses 267 users, where, aside of actually using the system they are to answer in total 44 questions (either before or after using the system) that give information of various aspects such as user characteristics, satisfaction, trust in the system, etc.\n",
    "\n",
    "The results show that the understandability, satisfaction, perceieved control, and ratings of reccomendations (in a 1 to 5 scale) show betters results if one only changes between only showing the final reccomendation list, or showing the full graph (this one having better results).\n",
    "\n",
    "It is also the case in changing the controlability (adding either the sliders to the one's liked bands, or to the friends, not both at the same time). There's a minimum difference in the results between each controlable case.\n",
    "\n",
    "## Comments\n",
    "Pitifully, I don't know if having 267 users is a big enough size for case-test, since that leaves us with about 45 users in each subsdivision of this test.\n",
    "That aside, the results presented in this paper clearly showed an increase in subjective metrics by adding inspectability and/or controlability.\n",
    "This results are quite logical taking a bit of the human nature into mind. It is easier to trust (and we know that trust in SysRec it's important by now) things we understand, and both inspectability and controlability help in that department (by either showing us the inner workings of the SR, or by letting us \"get our hands dirty\" with it).\n",
    "\n",
    "Also, there was a comment by the authors that got my attention in particular. By showing due to what friend/s a reccomendation came to be, it is easier to recognize said item (\"Ah, I actually know about this band\"). The user recognizing an item has two effects, first of all the trust in the system increases (since one knew of this band due to a friend liking it, one probably thinks of this band as something \"good\"), secondly the satisfaction lowers since it's not presenting something new. Yet, according to McNeee et al. (2002) as long as atleast one item is novel the users are happy.\n",
    "\n",
    "The reason it got my attention, it's because I believe this statement, and since satisfaction can be kept high by having but one novel item, one could pottentially rise the satisfaction of users on a SR by a considerable amount by showing them items they are (probably) knowledgeable about. Other domains this would clearly work on is Movies, Tv series, Books, etc. If I get recommended a series that I liked (but the system didnt knew about me having already seen it), I would probably rate this system positively."
   ],
   "cell_type": "markdown",
   "metadata": {}
  }
 ]
}