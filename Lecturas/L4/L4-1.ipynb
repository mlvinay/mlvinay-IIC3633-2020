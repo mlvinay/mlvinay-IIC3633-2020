{
 "metadata": {
  "language_info": {
   "codemirror_mode": {
    "name": "ipython",
    "version": 3
   },
   "file_extension": ".py",
   "mimetype": "text/x-python",
   "name": "python",
   "nbconvert_exporter": "python",
   "pygments_lexer": "ipython3",
   "version": 3
  },
  "orig_nbformat": 2
 },
 "nbformat": 4,
 "nbformat_minor": 2,
 "cells": [
  {
   "cell_type": "markdown",
   "metadata": {},
   "source": [
    "# Abstract\n",
    "Content Based SysRecs take an item representation and according to a user profile, reccomend certain items.\n",
    "Items can be represented in either structured format (for example, a boolean matrix where each row represents an item, and each column represent a characteristic) or unstructured data (such as critic paragraph). On the other hand a user profile can be constructed with user customization (user themselves input some information of what they like) or using their explicit/implicit history with items.\n",
    "\n",
    "# Algorithms for learning a user model\n",
    "The author presents various algorithms (or families to be more precise) for learning the user profile according to their history:\n",
    "\n",
    "- Decision Trees\n",
    "- KNN\n",
    "- Relevance Feedback \n",
    "- Linear Classifiers\n",
    "- Naive Bayes\n",
    "\n",
    "# Critics\n",
    "I'd like to make a difference between the following 2 critics, as one is related to the way the information is described by the author, and the other one is related to the information itself.\n",
    "\n",
    "First, the algorithms presented are (by now) mostly known algorithms that are used by common machine learning (decision Trees for example), or algorithms we have seen in collaborative reccomendation systems, such as funkSVD (a linear classifier) and a Bayes approach. But trying to make a quick explanation of all these algorithms and how they work with content-based systems became quite a mess within the article. It's hard to follow if we are talking about learning a user profile, creating a rating/boolean reccomendation of an item, creating a vector of an unstructured data for an item, etc.\n",
    "\n",
    "Second of all, in relation to using unstructured text formats, one can see how this side of computer science has improved, since today there exist quite capable systems in handling unstructured data, particularly in the form of embeddings and deep neural networks (or Recurrent neural networks, since they work really well with paragraphs). It's probably much easier nowadays to take unstructured data and make a relatively vector characterization of an item."
   ]
  }
 ]
}